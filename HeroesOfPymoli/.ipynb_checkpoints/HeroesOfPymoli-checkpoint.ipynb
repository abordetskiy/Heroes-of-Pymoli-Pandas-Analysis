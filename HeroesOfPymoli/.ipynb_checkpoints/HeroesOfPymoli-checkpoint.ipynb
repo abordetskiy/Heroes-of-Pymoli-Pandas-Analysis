{
 "cells": [
  {
   "cell_type": "markdown",
   "metadata": {},
   "source": [
    "### Note\n",
    "* Instructions have been included for each segment. You do not have to follow them exactly, but they are included to help you think through the steps."
   ]
  },
  {
   "cell_type": "code",
   "execution_count": 32,
   "metadata": {},
   "outputs": [],
   "source": [
    "# Dependencies and Setup\n",
    "import pandas as pd\n",
    "import numpy as np\n",
    "# File to Load (Remember to Change These)\n",
    "file_to_load = \"Resources/purchase_data.csv\"\n",
    "\n",
    "# Read Purchasing File and store into Pandas data frame\n",
    "purchase_data = pd.read_csv(file_to_load)\n",
    "raw_df = pd.DataFrame(purchase_data)"
   ]
  },
  {
   "cell_type": "markdown",
   "metadata": {},
   "source": [
    "## Player Count"
   ]
  },
  {
   "cell_type": "markdown",
   "metadata": {},
   "source": [
    "* Display the total number of players\n"
   ]
  },
  {
   "cell_type": "code",
   "execution_count": 33,
   "metadata": {},
   "outputs": [
    {
     "data": {
      "text/html": [
       "<div>\n",
       "<style scoped>\n",
       "    .dataframe tbody tr th:only-of-type {\n",
       "        vertical-align: middle;\n",
       "    }\n",
       "\n",
       "    .dataframe tbody tr th {\n",
       "        vertical-align: top;\n",
       "    }\n",
       "\n",
       "    .dataframe thead th {\n",
       "        text-align: right;\n",
       "    }\n",
       "</style>\n",
       "<table border=\"1\" class=\"dataframe\">\n",
       "  <thead>\n",
       "    <tr style=\"text-align: right;\">\n",
       "      <th></th>\n",
       "      <th>Player Total</th>\n",
       "    </tr>\n",
       "  </thead>\n",
       "  <tbody>\n",
       "    <tr>\n",
       "      <th>0</th>\n",
       "      <td>576</td>\n",
       "    </tr>\n",
       "  </tbody>\n",
       "</table>\n",
       "</div>"
      ],
      "text/plain": [
       "   Player Total\n",
       "0           576"
      ]
     },
     "execution_count": 33,
     "metadata": {},
     "output_type": "execute_result"
    }
   ],
   "source": [
    "#gets player total from the length of a list of unique Screen Names\n",
    "PlayerTotalCount = len(raw_df.SN.unique())\n",
    "#sets up dictionary that will be turned into DataFrame with Header prefilled\n",
    "PlayerTotalOutput = [{\"Player Total\":PlayerTotalCount}]\n",
    "#converts dictionary into dataframe\n",
    "PlayerCount_df = pd.DataFrame(PlayerTotalOutput)\n",
    "#prints dataframe\n",
    "PlayerCount_df"
   ]
  },
  {
   "cell_type": "markdown",
   "metadata": {},
   "source": [
    "## Purchasing Analysis (Total)"
   ]
  },
  {
   "cell_type": "markdown",
   "metadata": {},
   "source": [
    "* Run basic calculations to obtain number of unique items, average price, etc.\n",
    "\n",
    "\n",
    "* Create a summary data frame to hold the results\n",
    "\n",
    "\n",
    "* Optional: give the displayed data cleaner formatting\n",
    "\n",
    "\n",
    "* Display the summary data frame\n"
   ]
  },
  {
   "cell_type": "code",
   "execution_count": 34,
   "metadata": {
    "scrolled": false
   },
   "outputs": [
    {
     "data": {
      "text/html": [
       "<style  type=\"text/css\" >\n",
       "</style><table id=\"T_c0b00b8a_d5ce_11ea_8a7d_305a3a0336aa\" ><thead>    <tr>        <th class=\"blank level0\" ></th>        <th class=\"col_heading level0 col0\" >Number of Unique Items</th>        <th class=\"col_heading level0 col1\" >Average Price</th>        <th class=\"col_heading level0 col2\" >Number of Purchases</th>        <th class=\"col_heading level0 col3\" >Total Revenue</th>    </tr></thead><tbody>\n",
       "                <tr>\n",
       "                        <th id=\"T_c0b00b8a_d5ce_11ea_8a7d_305a3a0336aalevel0_row0\" class=\"row_heading level0 row0\" >0</th>\n",
       "                        <td id=\"T_c0b00b8a_d5ce_11ea_8a7d_305a3a0336aarow0_col0\" class=\"data row0 col0\" >179</td>\n",
       "                        <td id=\"T_c0b00b8a_d5ce_11ea_8a7d_305a3a0336aarow0_col1\" class=\"data row0 col1\" >$3.05</td>\n",
       "                        <td id=\"T_c0b00b8a_d5ce_11ea_8a7d_305a3a0336aarow0_col2\" class=\"data row0 col2\" >780</td>\n",
       "                        <td id=\"T_c0b00b8a_d5ce_11ea_8a7d_305a3a0336aarow0_col3\" class=\"data row0 col3\" >$2,379.77</td>\n",
       "            </tr>\n",
       "    </tbody></table>"
      ],
      "text/plain": [
       "<pandas.io.formats.style.Styler at 0x22f31a44388>"
      ]
     },
     "execution_count": 34,
     "metadata": {},
     "output_type": "execute_result"
    }
   ],
   "source": [
    "#gets item total from the length of a list of unique item names\n",
    "UniqueItems = len(raw_df[\"Item Name\"].unique())\n",
    "#raw_df has individual purchase data, so an average of the price column gets us the average price\n",
    "AveragePurchasePrice = raw_df.Price.mean()\n",
    "#a simple count gets us the number of purchases\n",
    "TotalPurchases = raw_df[\"Purchase ID\"].count()\n",
    "#we sum the sales for all purchases, getting the total\n",
    "TotalRevenue = raw_df.Price.sum()\n",
    "#combines headers with their respective variables in a dictionary\n",
    "ItemsList = ({\"Number of Unique Items\": UniqueItems, \n",
    "              \"Average Price\": AveragePurchasePrice,\n",
    "              \"Number of Purchases\": TotalPurchases,\n",
    "              \"Total Revenue\": TotalRevenue,\n",
    "              })\n",
    "#converts dictionary to a DataFrame\n",
    "PurchasingAnalysis_df = pd.DataFrame(ItemsList, index=[0])\n",
    "#formats the appropriate columns to currency\n",
    "PurchasingAnalysis_df=PurchasingAnalysis_df.style.format({\"Average Price\": \"${:,.2f}\",\n",
    "                                                          \"Total Revenue\": \"${:,.2f}\"\n",
    "                                                         })\n",
    "#prints dataframe\n",
    "PurchasingAnalysis_df"
   ]
  },
  {
   "cell_type": "markdown",
   "metadata": {},
   "source": [
    "## Gender Demographics"
   ]
  },
  {
   "cell_type": "markdown",
   "metadata": {},
   "source": [
    "* Percentage and Count of Male Players\n",
    "\n",
    "\n",
    "* Percentage and Count of Female Players\n",
    "\n",
    "\n",
    "* Percentage and Count of Other / Non-Disclosed\n",
    "\n",
    "\n"
   ]
  },
  {
   "cell_type": "code",
   "execution_count": 35,
   "metadata": {},
   "outputs": [
    {
     "data": {
      "text/html": [
       "<style  type=\"text/css\" >\n",
       "</style><table id=\"T_c19899ba_d5ce_11ea_97fd_305a3a0336aa\" ><thead>    <tr>        <th class=\"blank level0\" ></th>        <th class=\"col_heading level0 col0\" >Total Count</th>        <th class=\"col_heading level0 col1\" >Percentage of Players</th>    </tr></thead><tbody>\n",
       "                <tr>\n",
       "                        <th id=\"T_c19899ba_d5ce_11ea_97fd_305a3a0336aalevel0_row0\" class=\"row_heading level0 row0\" >Male</th>\n",
       "                        <td id=\"T_c19899ba_d5ce_11ea_97fd_305a3a0336aarow0_col0\" class=\"data row0 col0\" >484</td>\n",
       "                        <td id=\"T_c19899ba_d5ce_11ea_97fd_305a3a0336aarow0_col1\" class=\"data row0 col1\" >84.03%</td>\n",
       "            </tr>\n",
       "            <tr>\n",
       "                        <th id=\"T_c19899ba_d5ce_11ea_97fd_305a3a0336aalevel0_row1\" class=\"row_heading level0 row1\" >Female</th>\n",
       "                        <td id=\"T_c19899ba_d5ce_11ea_97fd_305a3a0336aarow1_col0\" class=\"data row1 col0\" >81</td>\n",
       "                        <td id=\"T_c19899ba_d5ce_11ea_97fd_305a3a0336aarow1_col1\" class=\"data row1 col1\" >14.06%</td>\n",
       "            </tr>\n",
       "            <tr>\n",
       "                        <th id=\"T_c19899ba_d5ce_11ea_97fd_305a3a0336aalevel0_row2\" class=\"row_heading level0 row2\" >Other / Non-Disclosed</th>\n",
       "                        <td id=\"T_c19899ba_d5ce_11ea_97fd_305a3a0336aarow2_col0\" class=\"data row2 col0\" >11</td>\n",
       "                        <td id=\"T_c19899ba_d5ce_11ea_97fd_305a3a0336aarow2_col1\" class=\"data row2 col1\" >1.91%</td>\n",
       "            </tr>\n",
       "    </tbody></table>"
      ],
      "text/plain": [
       "<pandas.io.formats.style.Styler at 0x22f31a342c8>"
      ]
     },
     "execution_count": 35,
     "metadata": {},
     "output_type": "execute_result"
    }
   ],
   "source": [
    "#removes the duplicate data (since gender and SN should always be the same accross entry, we dont worry about losing data)\n",
    "DeDuped_df = raw_df.drop_duplicates(subset=[\"SN\"])\n",
    "#pulls value counts from gender column and inputs data to dataframe\n",
    "GenderDemographics_df = pd.DataFrame(DeDuped_df[\"Gender\"].value_counts())\n",
    "#renames column for output purposes\n",
    "GenderDemographics_df = GenderDemographics_df.rename(columns={\"Gender\": \"Total Count\"})\n",
    "#sets up dataframe for next portion to pull gender counts\n",
    "GenderCount_df = GenderDemographics_df\n",
    "#calculates the percentage using Gender count and previously calculated player total\n",
    "GenderDemographics_df[\"Percentage of Players\"] = GenderDemographics_df[\"Total Count\"]/PlayerTotalCount\n",
    "#formats the Percentage of Players column to percentage\n",
    "GenderDemographics_df = GenderDemographics_df.style.format({\"Percentage of Players\": \"{:.2%}\"})\n",
    "#prints dataframe\n",
    "GenderDemographics_df"
   ]
  },
  {
   "cell_type": "markdown",
   "metadata": {},
   "source": [
    "\n",
    "## Purchasing Analysis (Gender)"
   ]
  },
  {
   "cell_type": "markdown",
   "metadata": {},
   "source": [
    "* Run basic calculations to obtain purchase count, avg. purchase price, avg. purchase total per person etc. by gender\n",
    "\n",
    "\n",
    "\n",
    "\n",
    "* Create a summary data frame to hold the results\n",
    "\n",
    "\n",
    "* Optional: give the displayed data cleaner formatting\n",
    "\n",
    "\n",
    "* Display the summary data frame"
   ]
  },
  {
   "cell_type": "code",
   "execution_count": 36,
   "metadata": {},
   "outputs": [
    {
     "data": {
      "text/html": [
       "<style  type=\"text/css\" >\n",
       "</style><table id=\"T_c262cfe6_d5ce_11ea_9003_305a3a0336aa\" ><thead>    <tr>        <th class=\"blank level0\" ></th>        <th class=\"col_heading level0 col0\" >Purchase Count</th>        <th class=\"col_heading level0 col1\" >Average Purchase Price</th>        <th class=\"col_heading level0 col2\" >Total Purchase Value</th>        <th class=\"col_heading level0 col3\" >Avg Total Purchase per Person</th>    </tr>    <tr>        <th class=\"index_name level0\" >Gender</th>        <th class=\"blank\" ></th>        <th class=\"blank\" ></th>        <th class=\"blank\" ></th>        <th class=\"blank\" ></th>    </tr></thead><tbody>\n",
       "                <tr>\n",
       "                        <th id=\"T_c262cfe6_d5ce_11ea_9003_305a3a0336aalevel0_row0\" class=\"row_heading level0 row0\" >Female</th>\n",
       "                        <td id=\"T_c262cfe6_d5ce_11ea_9003_305a3a0336aarow0_col0\" class=\"data row0 col0\" >113</td>\n",
       "                        <td id=\"T_c262cfe6_d5ce_11ea_9003_305a3a0336aarow0_col1\" class=\"data row0 col1\" >$3.20</td>\n",
       "                        <td id=\"T_c262cfe6_d5ce_11ea_9003_305a3a0336aarow0_col2\" class=\"data row0 col2\" >$361.94</td>\n",
       "                        <td id=\"T_c262cfe6_d5ce_11ea_9003_305a3a0336aarow0_col3\" class=\"data row0 col3\" >$4.47</td>\n",
       "            </tr>\n",
       "            <tr>\n",
       "                        <th id=\"T_c262cfe6_d5ce_11ea_9003_305a3a0336aalevel0_row1\" class=\"row_heading level0 row1\" >Male</th>\n",
       "                        <td id=\"T_c262cfe6_d5ce_11ea_9003_305a3a0336aarow1_col0\" class=\"data row1 col0\" >652</td>\n",
       "                        <td id=\"T_c262cfe6_d5ce_11ea_9003_305a3a0336aarow1_col1\" class=\"data row1 col1\" >$3.02</td>\n",
       "                        <td id=\"T_c262cfe6_d5ce_11ea_9003_305a3a0336aarow1_col2\" class=\"data row1 col2\" >$1,967.64</td>\n",
       "                        <td id=\"T_c262cfe6_d5ce_11ea_9003_305a3a0336aarow1_col3\" class=\"data row1 col3\" >$4.07</td>\n",
       "            </tr>\n",
       "            <tr>\n",
       "                        <th id=\"T_c262cfe6_d5ce_11ea_9003_305a3a0336aalevel0_row2\" class=\"row_heading level0 row2\" >Other / Non-Disclosed</th>\n",
       "                        <td id=\"T_c262cfe6_d5ce_11ea_9003_305a3a0336aarow2_col0\" class=\"data row2 col0\" >15</td>\n",
       "                        <td id=\"T_c262cfe6_d5ce_11ea_9003_305a3a0336aarow2_col1\" class=\"data row2 col1\" >$3.35</td>\n",
       "                        <td id=\"T_c262cfe6_d5ce_11ea_9003_305a3a0336aarow2_col2\" class=\"data row2 col2\" >$50.19</td>\n",
       "                        <td id=\"T_c262cfe6_d5ce_11ea_9003_305a3a0336aarow2_col3\" class=\"data row2 col3\" >$4.56</td>\n",
       "            </tr>\n",
       "    </tbody></table>"
      ],
      "text/plain": [
       "<pandas.io.formats.style.Styler at 0x22f31a28148>"
      ]
     },
     "execution_count": 36,
     "metadata": {},
     "output_type": "execute_result"
    }
   ],
   "source": [
    "#creates a groupby object based off the Gender column \n",
    "GenderGroup_gb = raw_df.groupby(\"Gender\")\n",
    "#counts all purchases made for each gender\n",
    "GenderPurchaseCount_df = GenderGroup_gb.count()\n",
    "#calculates average of purchase price for each gender\n",
    "GenderAveragePurchasePrice_df = GenderGroup_gb.mean()\n",
    "#calculates the sum of purchases for each gender\n",
    "GenderTotalPurchaseValue_df = GenderGroup_gb.sum()\n",
    "#calculates the average purchase price for each gender based off total purchase value and count info from last section\n",
    "GenderAvgTotalPurchasePerPerson_df = (GenderTotalPurchaseValue_df[\"Price\"] / GenderCount_df[\"Total Count\"])\n",
    "#creates output Dataframe and sets up headers\n",
    "GenderPurchasingAnalysis_df = pd.DataFrame({\"Purchase Count\":GenderPurchaseCount_df[\"Price\"],\n",
    "                               \"Average Purchase Price\":GenderAveragePurchasePrice_df[\"Price\"],\n",
    "                               \"Total Purchase Value\":GenderTotalPurchaseValue_df[\"Price\"],\n",
    "                               \"Avg Total Purchase per Person\":GenderAvgTotalPurchasePerPerson_df})\n",
    "#formats the appropriate columns to currency\n",
    "GenderPurchasingAnalysis_df=GenderPurchasingAnalysis_df.style.format({\"Average Purchase Price\": \"${:,.2f}\",\n",
    "                                                                      \"Total Purchase Value\": \"${:,.2f}\",\n",
    "                                                                      \"Avg Total Purchase per Person\": \"${:,.2f}\"})\n",
    "#prints dataframe\n",
    "GenderPurchasingAnalysis_df"
   ]
  },
  {
   "cell_type": "markdown",
   "metadata": {},
   "source": [
    "## Age Demographics"
   ]
  },
  {
   "cell_type": "markdown",
   "metadata": {},
   "source": [
    "* Establish bins for ages\n",
    "\n",
    "\n",
    "* Categorize the existing players using the age bins. Hint: use pd.cut()\n",
    "\n",
    "\n",
    "* Calculate the numbers and percentages by age group\n",
    "\n",
    "\n",
    "* Create a summary data frame to hold the results\n",
    "\n",
    "\n",
    "* Optional: round the percentage column to two decimal points\n",
    "\n",
    "\n",
    "* Display Age Demographics Table\n"
   ]
  },
  {
   "cell_type": "code",
   "execution_count": 37,
   "metadata": {},
   "outputs": [
    {
     "data": {
      "text/html": [
       "<style  type=\"text/css\" >\n",
       "</style><table id=\"T_c38c3106_d5ce_11ea_a55e_305a3a0336aa\" ><thead>    <tr>        <th class=\"blank level0\" ></th>        <th class=\"col_heading level0 col0\" >Total Count</th>        <th class=\"col_heading level0 col1\" >Percentage of Players</th>    </tr></thead><tbody>\n",
       "                <tr>\n",
       "                        <th id=\"T_c38c3106_d5ce_11ea_a55e_305a3a0336aalevel0_row0\" class=\"row_heading level0 row0\" ><10</th>\n",
       "                        <td id=\"T_c38c3106_d5ce_11ea_a55e_305a3a0336aarow0_col0\" class=\"data row0 col0\" >17</td>\n",
       "                        <td id=\"T_c38c3106_d5ce_11ea_a55e_305a3a0336aarow0_col1\" class=\"data row0 col1\" >2.95%</td>\n",
       "            </tr>\n",
       "            <tr>\n",
       "                        <th id=\"T_c38c3106_d5ce_11ea_a55e_305a3a0336aalevel0_row1\" class=\"row_heading level0 row1\" >10-14</th>\n",
       "                        <td id=\"T_c38c3106_d5ce_11ea_a55e_305a3a0336aarow1_col0\" class=\"data row1 col0\" >22</td>\n",
       "                        <td id=\"T_c38c3106_d5ce_11ea_a55e_305a3a0336aarow1_col1\" class=\"data row1 col1\" >3.82%</td>\n",
       "            </tr>\n",
       "            <tr>\n",
       "                        <th id=\"T_c38c3106_d5ce_11ea_a55e_305a3a0336aalevel0_row2\" class=\"row_heading level0 row2\" >15-19</th>\n",
       "                        <td id=\"T_c38c3106_d5ce_11ea_a55e_305a3a0336aarow2_col0\" class=\"data row2 col0\" >107</td>\n",
       "                        <td id=\"T_c38c3106_d5ce_11ea_a55e_305a3a0336aarow2_col1\" class=\"data row2 col1\" >18.58%</td>\n",
       "            </tr>\n",
       "            <tr>\n",
       "                        <th id=\"T_c38c3106_d5ce_11ea_a55e_305a3a0336aalevel0_row3\" class=\"row_heading level0 row3\" >20-24</th>\n",
       "                        <td id=\"T_c38c3106_d5ce_11ea_a55e_305a3a0336aarow3_col0\" class=\"data row3 col0\" >258</td>\n",
       "                        <td id=\"T_c38c3106_d5ce_11ea_a55e_305a3a0336aarow3_col1\" class=\"data row3 col1\" >44.79%</td>\n",
       "            </tr>\n",
       "            <tr>\n",
       "                        <th id=\"T_c38c3106_d5ce_11ea_a55e_305a3a0336aalevel0_row4\" class=\"row_heading level0 row4\" >25-29</th>\n",
       "                        <td id=\"T_c38c3106_d5ce_11ea_a55e_305a3a0336aarow4_col0\" class=\"data row4 col0\" >77</td>\n",
       "                        <td id=\"T_c38c3106_d5ce_11ea_a55e_305a3a0336aarow4_col1\" class=\"data row4 col1\" >13.37%</td>\n",
       "            </tr>\n",
       "            <tr>\n",
       "                        <th id=\"T_c38c3106_d5ce_11ea_a55e_305a3a0336aalevel0_row5\" class=\"row_heading level0 row5\" >30-34</th>\n",
       "                        <td id=\"T_c38c3106_d5ce_11ea_a55e_305a3a0336aarow5_col0\" class=\"data row5 col0\" >52</td>\n",
       "                        <td id=\"T_c38c3106_d5ce_11ea_a55e_305a3a0336aarow5_col1\" class=\"data row5 col1\" >9.03%</td>\n",
       "            </tr>\n",
       "            <tr>\n",
       "                        <th id=\"T_c38c3106_d5ce_11ea_a55e_305a3a0336aalevel0_row6\" class=\"row_heading level0 row6\" >35-39</th>\n",
       "                        <td id=\"T_c38c3106_d5ce_11ea_a55e_305a3a0336aarow6_col0\" class=\"data row6 col0\" >31</td>\n",
       "                        <td id=\"T_c38c3106_d5ce_11ea_a55e_305a3a0336aarow6_col1\" class=\"data row6 col1\" >5.38%</td>\n",
       "            </tr>\n",
       "            <tr>\n",
       "                        <th id=\"T_c38c3106_d5ce_11ea_a55e_305a3a0336aalevel0_row7\" class=\"row_heading level0 row7\" >40+</th>\n",
       "                        <td id=\"T_c38c3106_d5ce_11ea_a55e_305a3a0336aarow7_col0\" class=\"data row7 col0\" >12</td>\n",
       "                        <td id=\"T_c38c3106_d5ce_11ea_a55e_305a3a0336aarow7_col1\" class=\"data row7 col1\" >2.08%</td>\n",
       "            </tr>\n",
       "    </tbody></table>"
      ],
      "text/plain": [
       "<pandas.io.formats.style.Styler at 0x22f31a26d08>"
      ]
     },
     "execution_count": 37,
     "metadata": {},
     "output_type": "execute_result"
    }
   ],
   "source": [
    "#sets up bin limits and labels in list variables\n",
    "AgeBins = [0,9,14,19,24,29,34,39,100]\n",
    "AgeBinLabels = [\"<10\",\"10-14\",\"15-19\",\"20-24\",\"25-29\",\"30-34\",\"35-39\",\"40+\"]\n",
    "#calculation that cuts bins into respective slices and does a count of the bins\n",
    "AgeBinCount = pd.cut(DeDuped_df[\"Age\"], bins=AgeBins,labels=AgeBinLabels,include_lowest=True).value_counts()\n",
    "#converts data into DataFrame\n",
    "AgeDemographics_df = pd.DataFrame(AgeBinCount)\n",
    "#renames appropriate columns\n",
    "AgeDemographics_df=AgeDemographics_df.rename(columns={\"Age\": \"Total Count\"})\n",
    "#sets up dataframe for next portion to pull bin counts\n",
    "AgeCount_df = AgeDemographics_df\n",
    "#calculates and fills Percentage of Players column with info based on count of bins and total players variable\n",
    "AgeDemographics_df[\"Percentage of Players\"] = (AgeDemographics_df[\"Total Count\"]/PlayerTotalCount)\n",
    "#reindexes labels so they are in order\n",
    "AgeDemographics_df = AgeDemographics_df.reindex(AgeBinLabels)\n",
    "#formats the appropriate columns to currency\n",
    "AgeDemographics_df = AgeDemographics_df.style.format({\"Percentage of Players\": \"{:.2%}\"})\n",
    "#prints dataframe\n",
    "AgeDemographics_df\n"
   ]
  },
  {
   "cell_type": "markdown",
   "metadata": {},
   "source": [
    "## Purchasing Analysis (Age)"
   ]
  },
  {
   "cell_type": "markdown",
   "metadata": {},
   "source": [
    "* Bin the purchase_data data frame by age\n",
    "\n",
    "\n",
    "* Run basic calculations to obtain purchase count, avg. purchase price, avg. purchase total per person etc. in the table below\n",
    "\n",
    "\n",
    "* Create a summary data frame to hold the results\n",
    "\n",
    "\n",
    "* Optional: give the displayed data cleaner formatting\n",
    "\n",
    "\n",
    "* Display the summary data frame"
   ]
  },
  {
   "cell_type": "code",
   "execution_count": 38,
   "metadata": {},
   "outputs": [
    {
     "data": {
      "text/html": [
       "<style  type=\"text/css\" >\n",
       "</style><table id=\"T_c469555c_d5ce_11ea_bfc6_305a3a0336aa\" ><thead>    <tr>        <th class=\"blank level0\" ></th>        <th class=\"col_heading level0 col0\" >Purchase Count</th>        <th class=\"col_heading level0 col1\" >Average Purchase Price</th>        <th class=\"col_heading level0 col2\" >Total Purchase Value</th>        <th class=\"col_heading level0 col3\" >Avg Total Purchase per Person</th>    </tr></thead><tbody>\n",
       "                <tr>\n",
       "                        <th id=\"T_c469555c_d5ce_11ea_bfc6_305a3a0336aalevel0_row0\" class=\"row_heading level0 row0\" ><10</th>\n",
       "                        <td id=\"T_c469555c_d5ce_11ea_bfc6_305a3a0336aarow0_col0\" class=\"data row0 col0\" >23</td>\n",
       "                        <td id=\"T_c469555c_d5ce_11ea_bfc6_305a3a0336aarow0_col1\" class=\"data row0 col1\" >$3.35</td>\n",
       "                        <td id=\"T_c469555c_d5ce_11ea_bfc6_305a3a0336aarow0_col2\" class=\"data row0 col2\" >$77.13</td>\n",
       "                        <td id=\"T_c469555c_d5ce_11ea_bfc6_305a3a0336aarow0_col3\" class=\"data row0 col3\" >$4.54</td>\n",
       "            </tr>\n",
       "            <tr>\n",
       "                        <th id=\"T_c469555c_d5ce_11ea_bfc6_305a3a0336aalevel0_row1\" class=\"row_heading level0 row1\" >10-14</th>\n",
       "                        <td id=\"T_c469555c_d5ce_11ea_bfc6_305a3a0336aarow1_col0\" class=\"data row1 col0\" >28</td>\n",
       "                        <td id=\"T_c469555c_d5ce_11ea_bfc6_305a3a0336aarow1_col1\" class=\"data row1 col1\" >$2.96</td>\n",
       "                        <td id=\"T_c469555c_d5ce_11ea_bfc6_305a3a0336aarow1_col2\" class=\"data row1 col2\" >$82.78</td>\n",
       "                        <td id=\"T_c469555c_d5ce_11ea_bfc6_305a3a0336aarow1_col3\" class=\"data row1 col3\" >$3.76</td>\n",
       "            </tr>\n",
       "            <tr>\n",
       "                        <th id=\"T_c469555c_d5ce_11ea_bfc6_305a3a0336aalevel0_row2\" class=\"row_heading level0 row2\" >15-19</th>\n",
       "                        <td id=\"T_c469555c_d5ce_11ea_bfc6_305a3a0336aarow2_col0\" class=\"data row2 col0\" >136</td>\n",
       "                        <td id=\"T_c469555c_d5ce_11ea_bfc6_305a3a0336aarow2_col1\" class=\"data row2 col1\" >$3.04</td>\n",
       "                        <td id=\"T_c469555c_d5ce_11ea_bfc6_305a3a0336aarow2_col2\" class=\"data row2 col2\" >$412.89</td>\n",
       "                        <td id=\"T_c469555c_d5ce_11ea_bfc6_305a3a0336aarow2_col3\" class=\"data row2 col3\" >$3.86</td>\n",
       "            </tr>\n",
       "            <tr>\n",
       "                        <th id=\"T_c469555c_d5ce_11ea_bfc6_305a3a0336aalevel0_row3\" class=\"row_heading level0 row3\" >20-24</th>\n",
       "                        <td id=\"T_c469555c_d5ce_11ea_bfc6_305a3a0336aarow3_col0\" class=\"data row3 col0\" >365</td>\n",
       "                        <td id=\"T_c469555c_d5ce_11ea_bfc6_305a3a0336aarow3_col1\" class=\"data row3 col1\" >$3.05</td>\n",
       "                        <td id=\"T_c469555c_d5ce_11ea_bfc6_305a3a0336aarow3_col2\" class=\"data row3 col2\" >$1,114.06</td>\n",
       "                        <td id=\"T_c469555c_d5ce_11ea_bfc6_305a3a0336aarow3_col3\" class=\"data row3 col3\" >$4.32</td>\n",
       "            </tr>\n",
       "            <tr>\n",
       "                        <th id=\"T_c469555c_d5ce_11ea_bfc6_305a3a0336aalevel0_row4\" class=\"row_heading level0 row4\" >25-29</th>\n",
       "                        <td id=\"T_c469555c_d5ce_11ea_bfc6_305a3a0336aarow4_col0\" class=\"data row4 col0\" >101</td>\n",
       "                        <td id=\"T_c469555c_d5ce_11ea_bfc6_305a3a0336aarow4_col1\" class=\"data row4 col1\" >$2.90</td>\n",
       "                        <td id=\"T_c469555c_d5ce_11ea_bfc6_305a3a0336aarow4_col2\" class=\"data row4 col2\" >$293.00</td>\n",
       "                        <td id=\"T_c469555c_d5ce_11ea_bfc6_305a3a0336aarow4_col3\" class=\"data row4 col3\" >$3.81</td>\n",
       "            </tr>\n",
       "            <tr>\n",
       "                        <th id=\"T_c469555c_d5ce_11ea_bfc6_305a3a0336aalevel0_row5\" class=\"row_heading level0 row5\" >30-34</th>\n",
       "                        <td id=\"T_c469555c_d5ce_11ea_bfc6_305a3a0336aarow5_col0\" class=\"data row5 col0\" >73</td>\n",
       "                        <td id=\"T_c469555c_d5ce_11ea_bfc6_305a3a0336aarow5_col1\" class=\"data row5 col1\" >$2.93</td>\n",
       "                        <td id=\"T_c469555c_d5ce_11ea_bfc6_305a3a0336aarow5_col2\" class=\"data row5 col2\" >$214.00</td>\n",
       "                        <td id=\"T_c469555c_d5ce_11ea_bfc6_305a3a0336aarow5_col3\" class=\"data row5 col3\" >$4.12</td>\n",
       "            </tr>\n",
       "            <tr>\n",
       "                        <th id=\"T_c469555c_d5ce_11ea_bfc6_305a3a0336aalevel0_row6\" class=\"row_heading level0 row6\" >35-39</th>\n",
       "                        <td id=\"T_c469555c_d5ce_11ea_bfc6_305a3a0336aarow6_col0\" class=\"data row6 col0\" >41</td>\n",
       "                        <td id=\"T_c469555c_d5ce_11ea_bfc6_305a3a0336aarow6_col1\" class=\"data row6 col1\" >$3.60</td>\n",
       "                        <td id=\"T_c469555c_d5ce_11ea_bfc6_305a3a0336aarow6_col2\" class=\"data row6 col2\" >$147.67</td>\n",
       "                        <td id=\"T_c469555c_d5ce_11ea_bfc6_305a3a0336aarow6_col3\" class=\"data row6 col3\" >$4.76</td>\n",
       "            </tr>\n",
       "            <tr>\n",
       "                        <th id=\"T_c469555c_d5ce_11ea_bfc6_305a3a0336aalevel0_row7\" class=\"row_heading level0 row7\" >40+</th>\n",
       "                        <td id=\"T_c469555c_d5ce_11ea_bfc6_305a3a0336aarow7_col0\" class=\"data row7 col0\" >13</td>\n",
       "                        <td id=\"T_c469555c_d5ce_11ea_bfc6_305a3a0336aarow7_col1\" class=\"data row7 col1\" >$2.94</td>\n",
       "                        <td id=\"T_c469555c_d5ce_11ea_bfc6_305a3a0336aarow7_col2\" class=\"data row7 col2\" >$38.24</td>\n",
       "                        <td id=\"T_c469555c_d5ce_11ea_bfc6_305a3a0336aarow7_col3\" class=\"data row7 col3\" >$3.19</td>\n",
       "            </tr>\n",
       "    </tbody></table>"
      ],
      "text/plain": [
       "<pandas.io.formats.style.Styler at 0x22f31a26748>"
      ]
     },
     "execution_count": 38,
     "metadata": {},
     "output_type": "execute_result"
    }
   ],
   "source": [
    "#establishes new DataFrame with all info\n",
    "Age_df = raw_df\n",
    "#creates a new column with the age group bin labels based on count\n",
    "Age_df[\"Age Group\"] = pd.cut(Age_df[\"Age\"],bins=AgeBins,labels=AgeBinLabels,include_lowest=True)\n",
    "#creates a groupby object based off the Age Group (bin) column \n",
    "AgeGroup2_gb = Age_df.groupby(\"Age Group\")\n",
    "#counts all purchases made for each bin\n",
    "AgePurchaseCount_df = AgeGroup2_gb.count()\n",
    "#calculates average of purchase price for each bin\n",
    "AgeAveragePurchasePrice_df = AgeGroup2_gb.mean()\n",
    "#calculates the sum of purchases for each bin\n",
    "AgeTotalPurchaseValue_df = AgeGroup2_gb.sum()\n",
    "#calculates the average purchase price for each bin based off total purchase value and count info from last section\n",
    "AgeAvgTotalPurchasePerPerson_df = (AgeTotalPurchaseValue_df[\"Price\"] / AgeCount_df[\"Total Count\"])\n",
    "#creates output Dataframe and sets up headers\n",
    "AgePurchasingAnalysis_df = pd.DataFrame({\"Purchase Count\":AgePurchaseCount_df[\"Price\"],\n",
    "                               \"Average Purchase Price\":AgeAveragePurchasePrice_df[\"Price\"],\n",
    "                               \"Total Purchase Value\":AgeTotalPurchaseValue_df[\"Price\"],\n",
    "                               \"Avg Total Purchase per Person\":AgeAvgTotalPurchasePerPerson_df})\n",
    "#formats the appropriate columns to currency\n",
    "AgePurchasingAnalysis_df = AgePurchasingAnalysis_df.style.format({\"Average Purchase Price\": \"${:,.2f}\",\n",
    "                                         \"Total Purchase Value\": \"${:,.2f}\",\n",
    "                                          \"Avg Total Purchase per Person\": \"${:,.2f}\",\n",
    "                                         })\n",
    "#prints dataframe\n",
    "AgePurchasingAnalysis_df"
   ]
  },
  {
   "cell_type": "markdown",
   "metadata": {},
   "source": [
    "## Top Spenders"
   ]
  },
  {
   "cell_type": "markdown",
   "metadata": {},
   "source": [
    "* Run basic calculations to obtain the results in the table below\n",
    "\n",
    "\n",
    "* Create a summary data frame to hold the results\n",
    "\n",
    "\n",
    "* Sort the total purchase value column in descending order\n",
    "\n",
    "\n",
    "* Optional: give the displayed data cleaner formatting\n",
    "\n",
    "\n",
    "* Display a preview of the summary data frame\n",
    "\n"
   ]
  },
  {
   "cell_type": "code",
   "execution_count": 39,
   "metadata": {},
   "outputs": [
    {
     "data": {
      "text/html": [
       "<style  type=\"text/css\" >\n",
       "</style><table id=\"T_c55b6e64_d5ce_11ea_9cdc_305a3a0336aa\" ><thead>    <tr>        <th class=\"blank level0\" ></th>        <th class=\"col_heading level0 col0\" >Purchase Count</th>        <th class=\"col_heading level0 col1\" >Average Purchase Price</th>        <th class=\"col_heading level0 col2\" >Total Purchase Value</th>    </tr>    <tr>        <th class=\"index_name level0\" >SN</th>        <th class=\"blank\" ></th>        <th class=\"blank\" ></th>        <th class=\"blank\" ></th>    </tr></thead><tbody>\n",
       "                <tr>\n",
       "                        <th id=\"T_c55b6e64_d5ce_11ea_9cdc_305a3a0336aalevel0_row0\" class=\"row_heading level0 row0\" >Lisosia93</th>\n",
       "                        <td id=\"T_c55b6e64_d5ce_11ea_9cdc_305a3a0336aarow0_col0\" class=\"data row0 col0\" >5</td>\n",
       "                        <td id=\"T_c55b6e64_d5ce_11ea_9cdc_305a3a0336aarow0_col1\" class=\"data row0 col1\" >$3.79</td>\n",
       "                        <td id=\"T_c55b6e64_d5ce_11ea_9cdc_305a3a0336aarow0_col2\" class=\"data row0 col2\" >$18.96</td>\n",
       "            </tr>\n",
       "            <tr>\n",
       "                        <th id=\"T_c55b6e64_d5ce_11ea_9cdc_305a3a0336aalevel0_row1\" class=\"row_heading level0 row1\" >Idastidru52</th>\n",
       "                        <td id=\"T_c55b6e64_d5ce_11ea_9cdc_305a3a0336aarow1_col0\" class=\"data row1 col0\" >4</td>\n",
       "                        <td id=\"T_c55b6e64_d5ce_11ea_9cdc_305a3a0336aarow1_col1\" class=\"data row1 col1\" >$3.86</td>\n",
       "                        <td id=\"T_c55b6e64_d5ce_11ea_9cdc_305a3a0336aarow1_col2\" class=\"data row1 col2\" >$15.45</td>\n",
       "            </tr>\n",
       "            <tr>\n",
       "                        <th id=\"T_c55b6e64_d5ce_11ea_9cdc_305a3a0336aalevel0_row2\" class=\"row_heading level0 row2\" >Chamjask73</th>\n",
       "                        <td id=\"T_c55b6e64_d5ce_11ea_9cdc_305a3a0336aarow2_col0\" class=\"data row2 col0\" >3</td>\n",
       "                        <td id=\"T_c55b6e64_d5ce_11ea_9cdc_305a3a0336aarow2_col1\" class=\"data row2 col1\" >$4.61</td>\n",
       "                        <td id=\"T_c55b6e64_d5ce_11ea_9cdc_305a3a0336aarow2_col2\" class=\"data row2 col2\" >$13.83</td>\n",
       "            </tr>\n",
       "            <tr>\n",
       "                        <th id=\"T_c55b6e64_d5ce_11ea_9cdc_305a3a0336aalevel0_row3\" class=\"row_heading level0 row3\" >Iral74</th>\n",
       "                        <td id=\"T_c55b6e64_d5ce_11ea_9cdc_305a3a0336aarow3_col0\" class=\"data row3 col0\" >4</td>\n",
       "                        <td id=\"T_c55b6e64_d5ce_11ea_9cdc_305a3a0336aarow3_col1\" class=\"data row3 col1\" >$3.40</td>\n",
       "                        <td id=\"T_c55b6e64_d5ce_11ea_9cdc_305a3a0336aarow3_col2\" class=\"data row3 col2\" >$13.62</td>\n",
       "            </tr>\n",
       "            <tr>\n",
       "                        <th id=\"T_c55b6e64_d5ce_11ea_9cdc_305a3a0336aalevel0_row4\" class=\"row_heading level0 row4\" >Iskadarya95</th>\n",
       "                        <td id=\"T_c55b6e64_d5ce_11ea_9cdc_305a3a0336aarow4_col0\" class=\"data row4 col0\" >3</td>\n",
       "                        <td id=\"T_c55b6e64_d5ce_11ea_9cdc_305a3a0336aarow4_col1\" class=\"data row4 col1\" >$4.37</td>\n",
       "                        <td id=\"T_c55b6e64_d5ce_11ea_9cdc_305a3a0336aarow4_col2\" class=\"data row4 col2\" >$13.10</td>\n",
       "            </tr>\n",
       "    </tbody></table>"
      ],
      "text/plain": [
       "<pandas.io.formats.style.Styler at 0x22f31a6d4c8>"
      ]
     },
     "execution_count": 39,
     "metadata": {},
     "output_type": "execute_result"
    }
   ],
   "source": [
    "#creates a groupby object based off the Screen Name column \n",
    "SN_gb = raw_df.groupby(\"SN\")\n",
    "#establishes dataframe\n",
    "TopSpenders_df = pd.DataFrame()\n",
    "#calculates count of purchases per SN\n",
    "TopSpenders_df[\"Purchase Count\"] = SN_gb[\"Price\"].count()\n",
    "#calculates avg purchase price per SN\n",
    "TopSpenders_df[\"Average Purchase Price\"] = SN_gb[\"Price\"].mean()\n",
    "#calculates total per SN\n",
    "TopSpenders_df[\"Total Purchase Value\"] = SN_gb[\"Price\"].sum()\n",
    "#Sorts all data by Total Purchase Value\n",
    "TopSpenders_df=TopSpenders_df.sort_values([\"Total Purchase Value\"],ascending=False)\n",
    "\n",
    "#formats the appropriate columns to currency AND pulls top5 rows\n",
    "TopSpenders_df = TopSpenders_df.head().style.format({ \"Average Purchase Price\": \"${:,.2f}\",\n",
    "                                        \"Total Purchase Value\": \"${:,.2f}\",\n",
    "                                         })\n",
    "#prints dataframe\n",
    "TopSpenders_df\n"
   ]
  },
  {
   "cell_type": "markdown",
   "metadata": {},
   "source": [
    "## Most Popular Items"
   ]
  },
  {
   "cell_type": "markdown",
   "metadata": {},
   "source": [
    "* Retrieve the Item ID, Item Name, and Item Price columns\n",
    "\n",
    "\n",
    "* Group by Item ID and Item Name. Perform calculations to obtain purchase count, item price, and total purchase value\n",
    "\n",
    "\n",
    "* Create a summary data frame to hold the results\n",
    "\n",
    "\n",
    "* Sort the purchase count column in descending order\n",
    "\n",
    "\n",
    "* Optional: give the displayed data cleaner formatting\n",
    "\n",
    "\n",
    "* Display a preview of the summary data frame\n",
    "\n"
   ]
  },
  {
   "cell_type": "code",
   "execution_count": 40,
   "metadata": {},
   "outputs": [
    {
     "data": {
      "text/html": [
       "<style  type=\"text/css\" >\n",
       "</style><table id=\"T_c63e1266_d5ce_11ea_aaef_305a3a0336aa\" ><thead>    <tr>        <th class=\"blank\" ></th>        <th class=\"blank level0\" ></th>        <th class=\"col_heading level0 col0\" >Purchase Count</th>        <th class=\"col_heading level0 col1\" >Item Price</th>        <th class=\"col_heading level0 col2\" >Total Purchase Value</th>    </tr>    <tr>        <th class=\"index_name level0\" >Item ID</th>        <th class=\"index_name level1\" >Item Name</th>        <th class=\"blank\" ></th>        <th class=\"blank\" ></th>        <th class=\"blank\" ></th>    </tr></thead><tbody>\n",
       "                <tr>\n",
       "                        <th id=\"T_c63e1266_d5ce_11ea_aaef_305a3a0336aalevel0_row0\" class=\"row_heading level0 row0\" >92</th>\n",
       "                        <th id=\"T_c63e1266_d5ce_11ea_aaef_305a3a0336aalevel1_row0\" class=\"row_heading level1 row0\" >Final Critic</th>\n",
       "                        <td id=\"T_c63e1266_d5ce_11ea_aaef_305a3a0336aarow0_col0\" class=\"data row0 col0\" >13</td>\n",
       "                        <td id=\"T_c63e1266_d5ce_11ea_aaef_305a3a0336aarow0_col1\" class=\"data row0 col1\" >$4.61</td>\n",
       "                        <td id=\"T_c63e1266_d5ce_11ea_aaef_305a3a0336aarow0_col2\" class=\"data row0 col2\" >$59.99</td>\n",
       "            </tr>\n",
       "            <tr>\n",
       "                        <th id=\"T_c63e1266_d5ce_11ea_aaef_305a3a0336aalevel0_row1\" class=\"row_heading level0 row1\" >178</th>\n",
       "                        <th id=\"T_c63e1266_d5ce_11ea_aaef_305a3a0336aalevel1_row1\" class=\"row_heading level1 row1\" >Oathbreaker, Last Hope of the Breaking Storm</th>\n",
       "                        <td id=\"T_c63e1266_d5ce_11ea_aaef_305a3a0336aarow1_col0\" class=\"data row1 col0\" >12</td>\n",
       "                        <td id=\"T_c63e1266_d5ce_11ea_aaef_305a3a0336aarow1_col1\" class=\"data row1 col1\" >$4.23</td>\n",
       "                        <td id=\"T_c63e1266_d5ce_11ea_aaef_305a3a0336aarow1_col2\" class=\"data row1 col2\" >$50.76</td>\n",
       "            </tr>\n",
       "            <tr>\n",
       "                        <th id=\"T_c63e1266_d5ce_11ea_aaef_305a3a0336aalevel0_row2\" class=\"row_heading level0 row2\" >145</th>\n",
       "                        <th id=\"T_c63e1266_d5ce_11ea_aaef_305a3a0336aalevel1_row2\" class=\"row_heading level1 row2\" >Fiery Glass Crusader</th>\n",
       "                        <td id=\"T_c63e1266_d5ce_11ea_aaef_305a3a0336aarow2_col0\" class=\"data row2 col0\" >9</td>\n",
       "                        <td id=\"T_c63e1266_d5ce_11ea_aaef_305a3a0336aarow2_col1\" class=\"data row2 col1\" >$4.58</td>\n",
       "                        <td id=\"T_c63e1266_d5ce_11ea_aaef_305a3a0336aarow2_col2\" class=\"data row2 col2\" >$41.22</td>\n",
       "            </tr>\n",
       "            <tr>\n",
       "                        <th id=\"T_c63e1266_d5ce_11ea_aaef_305a3a0336aalevel0_row3\" class=\"row_heading level0 row3\" >132</th>\n",
       "                        <th id=\"T_c63e1266_d5ce_11ea_aaef_305a3a0336aalevel1_row3\" class=\"row_heading level1 row3\" >Persuasion</th>\n",
       "                        <td id=\"T_c63e1266_d5ce_11ea_aaef_305a3a0336aarow3_col0\" class=\"data row3 col0\" >9</td>\n",
       "                        <td id=\"T_c63e1266_d5ce_11ea_aaef_305a3a0336aarow3_col1\" class=\"data row3 col1\" >$3.22</td>\n",
       "                        <td id=\"T_c63e1266_d5ce_11ea_aaef_305a3a0336aarow3_col2\" class=\"data row3 col2\" >$28.99</td>\n",
       "            </tr>\n",
       "            <tr>\n",
       "                        <th id=\"T_c63e1266_d5ce_11ea_aaef_305a3a0336aalevel0_row4\" class=\"row_heading level0 row4\" >108</th>\n",
       "                        <th id=\"T_c63e1266_d5ce_11ea_aaef_305a3a0336aalevel1_row4\" class=\"row_heading level1 row4\" >Extraction, Quickblade Of Trembling Hands</th>\n",
       "                        <td id=\"T_c63e1266_d5ce_11ea_aaef_305a3a0336aarow4_col0\" class=\"data row4 col0\" >9</td>\n",
       "                        <td id=\"T_c63e1266_d5ce_11ea_aaef_305a3a0336aarow4_col1\" class=\"data row4 col1\" >$3.53</td>\n",
       "                        <td id=\"T_c63e1266_d5ce_11ea_aaef_305a3a0336aarow4_col2\" class=\"data row4 col2\" >$31.77</td>\n",
       "            </tr>\n",
       "    </tbody></table>"
      ],
      "text/plain": [
       "<pandas.io.formats.style.Styler at 0x22f31867908>"
      ]
     },
     "execution_count": 40,
     "metadata": {},
     "output_type": "execute_result"
    }
   ],
   "source": [
    "#creates a groupby object based off the Item Name and Item ID columns\n",
    "Item_gb = raw_df.groupby([\"Item ID\",\"Item Name\"])\n",
    "#establishes dataframe\n",
    "PopularItems_df = pd.DataFrame()\n",
    "#calculates the count of purchases per item\n",
    "PopularItems_df[\"Purchase Count\"] = Item_gb[\"Price\"].count()\n",
    "#calcualtes the Item Price by just getting the average of the group (with all values being the same, sum/count should equal the value of the item price)\n",
    "PopularItems_df[\"Item Price\"] = Item_gb[\"Price\"].mean()\n",
    "#calculates the Total Purchase Value per item\n",
    "PopularItems_df[\"Total Purchase Value\"] = Item_gb[\"Price\"].sum()\n",
    "#sets up dataframe for next portion to do different sort\n",
    "ProfitableItems_df = PopularItems_df\n",
    "#Sorts all data by Purchase Count\n",
    "PopularItems_df=PopularItems_df.sort_values([\"Purchase Count\"],ascending=False)\n",
    "#formats the appropriate columns to currency AND pulls top 5 rows\n",
    "PopularItems_df = PopularItems_df.head().style.format({ \"Item Price\": \"${:,.2f}\",\n",
    "                                        \"Total Purchase Value\": \"${:,.2f}\",\n",
    "                                         })\n",
    "#prints dataframe\n",
    "PopularItems_df\n"
   ]
  },
  {
   "cell_type": "markdown",
   "metadata": {},
   "source": [
    "## Most Profitable Items"
   ]
  },
  {
   "cell_type": "markdown",
   "metadata": {},
   "source": [
    "* Sort the above table by total purchase value in descending order\n",
    "\n",
    "\n",
    "* Optional: give the displayed data cleaner formatting\n",
    "\n",
    "\n",
    "* Display a preview of the data frame\n",
    "\n"
   ]
  },
  {
   "cell_type": "code",
   "execution_count": 41,
   "metadata": {
    "scrolled": true
   },
   "outputs": [
    {
     "data": {
      "text/html": [
       "<style  type=\"text/css\" >\n",
       "</style><table id=\"T_c714f93e_d5ce_11ea_a375_305a3a0336aa\" ><thead>    <tr>        <th class=\"blank\" ></th>        <th class=\"blank level0\" ></th>        <th class=\"col_heading level0 col0\" >Purchase Count</th>        <th class=\"col_heading level0 col1\" >Item Price</th>        <th class=\"col_heading level0 col2\" >Total Purchase Value</th>    </tr>    <tr>        <th class=\"index_name level0\" >Item ID</th>        <th class=\"index_name level1\" >Item Name</th>        <th class=\"blank\" ></th>        <th class=\"blank\" ></th>        <th class=\"blank\" ></th>    </tr></thead><tbody>\n",
       "                <tr>\n",
       "                        <th id=\"T_c714f93e_d5ce_11ea_a375_305a3a0336aalevel0_row0\" class=\"row_heading level0 row0\" >92</th>\n",
       "                        <th id=\"T_c714f93e_d5ce_11ea_a375_305a3a0336aalevel1_row0\" class=\"row_heading level1 row0\" >Final Critic</th>\n",
       "                        <td id=\"T_c714f93e_d5ce_11ea_a375_305a3a0336aarow0_col0\" class=\"data row0 col0\" >13</td>\n",
       "                        <td id=\"T_c714f93e_d5ce_11ea_a375_305a3a0336aarow0_col1\" class=\"data row0 col1\" >$4.61</td>\n",
       "                        <td id=\"T_c714f93e_d5ce_11ea_a375_305a3a0336aarow0_col2\" class=\"data row0 col2\" >$59.99</td>\n",
       "            </tr>\n",
       "            <tr>\n",
       "                        <th id=\"T_c714f93e_d5ce_11ea_a375_305a3a0336aalevel0_row1\" class=\"row_heading level0 row1\" >178</th>\n",
       "                        <th id=\"T_c714f93e_d5ce_11ea_a375_305a3a0336aalevel1_row1\" class=\"row_heading level1 row1\" >Oathbreaker, Last Hope of the Breaking Storm</th>\n",
       "                        <td id=\"T_c714f93e_d5ce_11ea_a375_305a3a0336aarow1_col0\" class=\"data row1 col0\" >12</td>\n",
       "                        <td id=\"T_c714f93e_d5ce_11ea_a375_305a3a0336aarow1_col1\" class=\"data row1 col1\" >$4.23</td>\n",
       "                        <td id=\"T_c714f93e_d5ce_11ea_a375_305a3a0336aarow1_col2\" class=\"data row1 col2\" >$50.76</td>\n",
       "            </tr>\n",
       "            <tr>\n",
       "                        <th id=\"T_c714f93e_d5ce_11ea_a375_305a3a0336aalevel0_row2\" class=\"row_heading level0 row2\" >82</th>\n",
       "                        <th id=\"T_c714f93e_d5ce_11ea_a375_305a3a0336aalevel1_row2\" class=\"row_heading level1 row2\" >Nirvana</th>\n",
       "                        <td id=\"T_c714f93e_d5ce_11ea_a375_305a3a0336aarow2_col0\" class=\"data row2 col0\" >9</td>\n",
       "                        <td id=\"T_c714f93e_d5ce_11ea_a375_305a3a0336aarow2_col1\" class=\"data row2 col1\" >$4.90</td>\n",
       "                        <td id=\"T_c714f93e_d5ce_11ea_a375_305a3a0336aarow2_col2\" class=\"data row2 col2\" >$44.10</td>\n",
       "            </tr>\n",
       "            <tr>\n",
       "                        <th id=\"T_c714f93e_d5ce_11ea_a375_305a3a0336aalevel0_row3\" class=\"row_heading level0 row3\" >145</th>\n",
       "                        <th id=\"T_c714f93e_d5ce_11ea_a375_305a3a0336aalevel1_row3\" class=\"row_heading level1 row3\" >Fiery Glass Crusader</th>\n",
       "                        <td id=\"T_c714f93e_d5ce_11ea_a375_305a3a0336aarow3_col0\" class=\"data row3 col0\" >9</td>\n",
       "                        <td id=\"T_c714f93e_d5ce_11ea_a375_305a3a0336aarow3_col1\" class=\"data row3 col1\" >$4.58</td>\n",
       "                        <td id=\"T_c714f93e_d5ce_11ea_a375_305a3a0336aarow3_col2\" class=\"data row3 col2\" >$41.22</td>\n",
       "            </tr>\n",
       "            <tr>\n",
       "                        <th id=\"T_c714f93e_d5ce_11ea_a375_305a3a0336aalevel0_row4\" class=\"row_heading level0 row4\" >103</th>\n",
       "                        <th id=\"T_c714f93e_d5ce_11ea_a375_305a3a0336aalevel1_row4\" class=\"row_heading level1 row4\" >Singed Scalpel</th>\n",
       "                        <td id=\"T_c714f93e_d5ce_11ea_a375_305a3a0336aarow4_col0\" class=\"data row4 col0\" >8</td>\n",
       "                        <td id=\"T_c714f93e_d5ce_11ea_a375_305a3a0336aarow4_col1\" class=\"data row4 col1\" >$4.35</td>\n",
       "                        <td id=\"T_c714f93e_d5ce_11ea_a375_305a3a0336aarow4_col2\" class=\"data row4 col2\" >$34.80</td>\n",
       "            </tr>\n",
       "    </tbody></table>"
      ],
      "text/plain": [
       "<pandas.io.formats.style.Styler at 0x22f31a3fec8>"
      ]
     },
     "execution_count": 41,
     "metadata": {},
     "output_type": "execute_result"
    }
   ],
   "source": [
    "#Sorts all data by Total Purchase Value\n",
    "ProfitableItems_df = ProfitableItems_df.sort_values([\"Total Purchase Value\"],ascending=False)\n",
    "#formats the appropriate columns to currency AND pulls top 5 rows\n",
    "ProfitableItems_df = ProfitableItems_df.head().style.format({ \"Item Price\": \"${:,.2f}\",\n",
    "                                        \"Total Purchase Value\": \"${:,.2f}\",\n",
    "                                         })\n",
    "#prints dataframe\n",
    "ProfitableItems_df"
   ]
  },
  {
   "cell_type": "code",
   "execution_count": null,
   "metadata": {},
   "outputs": [],
   "source": []
  }
 ],
 "metadata": {
  "anaconda-cloud": {},
  "kernel_info": {
   "name": "python3"
  },
  "kernelspec": {
   "display_name": "Python 3",
   "language": "python",
   "name": "python3"
  },
  "language_info": {
   "codemirror_mode": {
    "name": "ipython",
    "version": 3
   },
   "file_extension": ".py",
   "mimetype": "text/x-python",
   "name": "python",
   "nbconvert_exporter": "python",
   "pygments_lexer": "ipython3",
   "version": "3.7.6"
  },
  "latex_envs": {
   "LaTeX_envs_menu_present": true,
   "autoclose": false,
   "autocomplete": true,
   "bibliofile": "biblio.bib",
   "cite_by": "apalike",
   "current_citInitial": 1,
   "eqLabelWithNumbers": true,
   "eqNumInitial": 1,
   "hotkeys": {
    "equation": "Ctrl-E",
    "itemize": "Ctrl-I"
   },
   "labels_anchors": false,
   "latex_user_defs": false,
   "report_style_numbering": false,
   "user_envs_cfg": false
  },
  "nteract": {
   "version": "0.2.0"
  }
 },
 "nbformat": 4,
 "nbformat_minor": 2
}
